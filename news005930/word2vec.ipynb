{
 "cells": [
  {
   "cell_type": "markdown",
   "metadata": {
    "collapsed": true
   },
   "source": [
    "# word2vec"
   ]
  },
  {
   "cell_type": "code",
   "execution_count": 2,
   "metadata": {
    "collapsed": true
   },
   "outputs": [],
   "source": [
    "import numpy as np\n",
    "import matplotlib.pylab as plt"
   ]
  },
  {
   "cell_type": "code",
   "execution_count": 10,
   "metadata": {
    "collapsed": true
   },
   "outputs": [],
   "source": [
    "from __future__ import print_function, unicode_literals\n",
    "from konlpy.utils import pprint\n",
    "from gensim.models.word2vec import Word2Vec"
   ]
  },
  {
   "cell_type": "markdown",
   "metadata": {},
   "source": [
    "## 뉴스 기사 로딩"
   ]
  },
  {
   "cell_type": "code",
   "execution_count": 5,
   "metadata": {
    "collapsed": true
   },
   "outputs": [],
   "source": [
    "with open('news_005930_label.json') as f:\n",
    "    jsondata_label = ujson.load(f)\n",
    "    \n",
    "jsondata_token = jsondata_label      "
   ]
  },
  {
   "cell_type": "markdown",
   "metadata": {},
   "source": [
    "## 형태소 분석"
   ]
  },
  {
   "cell_type": "code",
   "execution_count": 18,
   "metadata": {
    "collapsed": true
   },
   "outputs": [],
   "source": [
    "from konlpy.tag import Kkma\n",
    "tagger = Kkma()\n",
    "\n",
    "def tokenize(jd):\n",
    "    pos = tagger.pos(jd['text'])\n",
    "    jd['token'] = [p[0] for p in pos]"
   ]
  },
  {
   "cell_type": "code",
   "execution_count": 28,
   "metadata": {
    "collapsed": false
   },
   "outputs": [
    {
     "name": "stdout",
     "output_type": "stream",
     "text": [
      "2017-01-11 18:09:52.791988 0\n",
      "2017-01-11 18:11:29.539387 500\n",
      "2017-01-11 18:12:52.329600 1000\n",
      "2017-01-11 18:14:24.599239 1500\n",
      "2017-01-11 18:15:50.733850 2000\n",
      "2017-01-11 18:17:12.387108 2500\n",
      "2017-01-11 18:18:30.778236 3000\n",
      "2017-01-11 18:19:52.284475 3500\n",
      "2017-01-11 18:21:11.033730 4000\n",
      "2017-01-11 18:22:39.566415 4500\n",
      "2017-01-11 18:24:08.937463 5000\n",
      "2017-01-11 18:25:38.274130 5500\n",
      "2017-01-11 18:27:03.724278 6000\n",
      "2017-01-11 18:28:31.626850 6500\n",
      "2017-01-11 18:29:56.099859 7000\n",
      "2017-01-11 18:31:24.165973 7500\n",
      "CPU times: user 22min, sys: 690 ms, total: 22min\n",
      "Wall time: 22min 2s\n"
     ]
    }
   ],
   "source": [
    "%%time\n",
    "for i, jd in enumerate(jsondata_token):\n",
    "    if i % 500 == 0:\n",
    "        print(datetime.datetime.now(), i)\n",
    "    tokenize(jd)"
   ]
  },
  {
   "cell_type": "code",
   "execution_count": 29,
   "metadata": {
    "collapsed": true
   },
   "outputs": [],
   "source": [
    "sentences = [jd['token'] for jd in jsondata_token]"
   ]
  },
  {
   "cell_type": "code",
   "execution_count": 30,
   "metadata": {
    "collapsed": false,
    "scrolled": false
   },
   "outputs": [
    {
     "name": "stdout",
     "output_type": "stream",
     "text": [
      "[삼성전자,\n",
      " 가,\n",
      " 중국,\n",
      " 시장,\n",
      " 을,\n",
      " 정조준,\n",
      " 하,\n",
      " 어,\n",
      " 개발,\n",
      " 하]\n"
     ]
    }
   ],
   "source": [
    "pprint(sentences[0][:10])"
   ]
  },
  {
   "cell_type": "markdown",
   "metadata": {},
   "source": [
    "## word2vec 모형"
   ]
  },
  {
   "cell_type": "code",
   "execution_count": 31,
   "metadata": {
    "collapsed": false
   },
   "outputs": [
    {
     "name": "stdout",
     "output_type": "stream",
     "text": [
      "CPU times: user 16 s, sys: 30 ms, total: 16.1 s\n",
      "Wall time: 16.1 s\n"
     ]
    }
   ],
   "source": [
    "%%time\n",
    "model = Word2Vec(sentences)"
   ]
  },
  {
   "cell_type": "code",
   "execution_count": 32,
   "metadata": {
    "collapsed": true
   },
   "outputs": [],
   "source": [
    "model.save(\"model.w2v\")"
   ]
  },
  {
   "cell_type": "markdown",
   "metadata": {},
   "source": [
    "## 단어 유사도"
   ]
  },
  {
   "cell_type": "code",
   "execution_count": 52,
   "metadata": {
    "collapsed": true
   },
   "outputs": [],
   "source": [
    "model = Word2Vec.load(\"model.w2v\")"
   ]
  },
  {
   "cell_type": "code",
   "execution_count": 53,
   "metadata": {
    "collapsed": false
   },
   "outputs": [
    {
     "data": {
      "text/plain": [
       "array([-0.88298994,  1.26178777, -0.77802747, -1.09302449, -1.26133657,\n",
       "        2.69204617,  3.04820013,  1.06273222,  1.08390737,  1.36907279,\n",
       "       -0.0880619 , -0.99113822,  0.34204349,  0.00336172,  3.20068002,\n",
       "        2.50551748, -0.91180468, -0.64260548, -3.21668768,  0.02881739,\n",
       "        2.33211613,  2.30430388,  0.60995513,  0.60308403,  0.53285176,\n",
       "        0.11653692, -1.34046912,  0.10900211, -2.74044943,  0.80897999,\n",
       "       -1.35799336, -0.15734237,  0.38982439,  1.02167475, -0.36940753,\n",
       "        2.04397106,  1.59048545, -1.44739306,  1.12625074,  0.28484374,\n",
       "        2.02303839,  1.24119914,  0.96651441,  0.84442705, -1.19634926,\n",
       "       -1.79522455, -0.14226824, -0.18730004, -0.74381512, -3.14393783,\n",
       "       -0.4018904 ,  0.48001659,  2.98944759, -0.13373449,  0.01049897,\n",
       "       -2.64756203, -2.37049699, -0.3202585 , -1.69861674, -0.26690614,\n",
       "       -0.38496479,  0.15361649, -2.13534689,  1.71759832, -2.98605919,\n",
       "       -1.46513045,  1.5292021 , -0.01296279,  0.22405368, -0.91393048,\n",
       "       -2.21310449,  2.08066678,  0.50774497,  0.44986454, -0.02757519,\n",
       "       -1.42474461, -2.55936003,  0.0657402 , -0.27544662,  0.67981362,\n",
       "        1.4602356 ,  2.42964816,  1.53822625, -1.14714336, -1.11347365,\n",
       "       -2.61452746, -0.59632337,  0.44418633, -2.2357161 , -0.70679122,\n",
       "       -0.29750636,  1.23577285, -1.67147481, -0.4370392 , -2.05516195,\n",
       "       -1.25252271, -1.59073305,  0.53300393, -1.86406636,  2.30605769], dtype=float32)"
      ]
     },
     "execution_count": 53,
     "metadata": {},
     "output_type": "execute_result"
    }
   ],
   "source": [
    "model['삼성']"
   ]
  },
  {
   "cell_type": "code",
   "execution_count": 54,
   "metadata": {
    "collapsed": false
   },
   "outputs": [
    {
     "name": "stdout",
     "output_type": "stream",
     "text": [
      "[(한화, 0.44487911462783813),\n",
      " (신세계, 0.4391079246997833),\n",
      " (유니온, 0.4338747560977936),\n",
      " (루프, 0.428579181432724),\n",
      " (삼성전자, 0.42772141098976135),\n",
      " (CJ, 0.42073482275009155),\n",
      " (씨티, 0.4170035719871521),\n",
      " (빅딜, 0.41692766547203064),\n",
      " (삼성생명, 0.40312451124191284),\n",
      " (제일, 0.40202853083610535)]\n"
     ]
    }
   ],
   "source": [
    "pprint(model.most_similar('삼성'))"
   ]
  },
  {
   "cell_type": "code",
   "execution_count": 55,
   "metadata": {
    "collapsed": false
   },
   "outputs": [
    {
     "name": "stdout",
     "output_type": "stream",
     "text": [
      "[(랠리, 0.5720997452735901),\n",
      " (외국인, 0.5668069124221802),\n",
      " (강세, 0.5595622062683105),\n",
      " (160, 0.5488746762275696),\n",
      " (상승세, 0.5474750995635986),\n",
      " (연일, 0.5425583124160767),\n",
      " (가르, 0.5420811176300049),\n",
      " (최고가, 0.5251951217651367),\n",
      " (상승, 0.5069561004638672),\n",
      " (증시, 0.5032307505607605)]\n"
     ]
    }
   ],
   "source": [
    "pprint(model.most_similar('주가'))"
   ]
  },
  {
   "cell_type": "code",
   "execution_count": 56,
   "metadata": {
    "collapsed": false
   },
   "outputs": [
    {
     "name": "stdout",
     "output_type": "stream",
     "text": [
      "[(흐름, 0.6726746559143066),\n",
      " (수급, 0.6484875679016113),\n",
      " (수익성, 0.6400747895240784),\n",
      " (변동성, 0.6346718072891235),\n",
      " (원가, 0.6283073425292969),\n",
      " (수익률, 0.6223256587982178),\n",
      " (요인, 0.6194822192192078),\n",
      " (체질, 0.6164451837539673),\n",
      " (재무, 0.6116939187049866),\n",
      " (외형, 0.6017174124717712)]\n"
     ]
    }
   ],
   "source": [
    "pprint(model.most_similar('수익'))"
   ]
  },
  {
   "cell_type": "code",
   "execution_count": 57,
   "metadata": {
    "collapsed": false
   },
   "outputs": [
    {
     "name": "stdout",
     "output_type": "stream",
     "text": [
      "[(급락, 0.8104647397994995)]\n"
     ]
    }
   ],
   "source": [
    "pprint(model.most_similar(positive=['상승', '급등'], negative=['하락'], topn=1))"
   ]
  },
  {
   "cell_type": "code",
   "execution_count": 58,
   "metadata": {
    "collapsed": false
   },
   "outputs": [
    {
     "name": "stdout",
     "output_type": "stream",
     "text": [
      "[(하락, 0.673424243927002)]\n"
     ]
    }
   ],
   "source": [
    "pprint(model.most_similar(positive=['수익', '상승'], negative=['손실'], topn=1))"
   ]
  }
 ],
 "metadata": {
  "anaconda-cloud": {},
  "kernelspec": {
   "display_name": "Python [conda root]",
   "language": "python",
   "name": "conda-root-py"
  },
  "language_info": {
   "codemirror_mode": {
    "name": "ipython",
    "version": 2
   },
   "file_extension": ".py",
   "mimetype": "text/x-python",
   "name": "python",
   "nbconvert_exporter": "python",
   "pygments_lexer": "ipython2",
   "version": "2.7.12"
  }
 },
 "nbformat": 4,
 "nbformat_minor": 1
}
