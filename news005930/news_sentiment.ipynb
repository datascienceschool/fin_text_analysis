{
 "cells": [
  {
   "cell_type": "markdown",
   "metadata": {
    "collapsed": true
   },
   "source": [
    "# 텍스트 데이터 전처리"
   ]
  },
  {
   "cell_type": "markdown",
   "metadata": {},
   "source": [
    "### 패키지 임포트"
   ]
  },
  {
   "cell_type": "code",
   "execution_count": 1,
   "metadata": {
    "collapsed": true
   },
   "outputs": [],
   "source": [
    "import numpy as np\n",
    "import matplotlib.pylab as plt"
   ]
  },
  {
   "cell_type": "code",
   "execution_count": 43,
   "metadata": {
    "collapsed": false
   },
   "outputs": [],
   "source": [
    "from __future__ import print_function, unicode_literals\n",
    "\n",
    "import datetime\n",
    "import re\n",
    "import ujson\n",
    "import zipfile\n",
    "\n",
    "import pandas_datareader.data as web\n",
    "\n",
    "from dateutil.parser import parse\n",
    "from konlpy.utils import pprint\n",
    "\n",
    "from sklearn.model_selection  import train_test_split\n",
    "from sklearn.feature_extraction.text import TfidfVectorizer\n",
    "from sklearn.metrics import classification_report, confusion_matrix\n",
    "from sklearn.naive_bayes import MultinomialNB\n",
    "from sklearn.tree import DecisionTreeClassifier\n",
    "from sklearn.svm import SVC"
   ]
  },
  {
   "cell_type": "markdown",
   "metadata": {},
   "source": [
    "### 데이터 파일 로드"
   ]
  },
  {
   "cell_type": "code",
   "execution_count": 47,
   "metadata": {
    "collapsed": false
   },
   "outputs": [],
   "source": [
    "zf = zipfile.ZipFile('news_005930.zip', 'r')\n",
    "jsondata = ujson.loads(zf.read('news_005930.json'))"
   ]
  },
  {
   "cell_type": "code",
   "execution_count": 48,
   "metadata": {
    "collapsed": false
   },
   "outputs": [
    {
     "name": "stdout",
     "output_type": "stream",
     "text": [
      "{datetime: 2016-12-28 16:25:00,\n",
      " source: 머니투데이 ,\n",
      " text: [머니투데이 오정은 기자 2016년 증시 폐장을 하루 앞두고 결산이 한창이다. 올해 중소형주 급락으로 국내 증권가의 펀드매니저와 개인 투자자 대부분이 마이너스 수익률을 기록한 반면 외국인은 한국 주식 투자성과가 짭짤했던 것으로 나타났다.,\n",
      "        횡보한 코스피, 급락한 코스닥과 달리 외국인이 추종하는 모건스탠리캐피탈인터내셔널(MSCI) 코리아 지수가 강세를 보여서다.,\n",
      "        배당락일인 28일 코스피 지수는 전일대비 17.68포인트(0.87%) 내린 2024.49에 마감했다. 기관이 4147억원을 순매도하며 지수 하락을 주도했다. 반면 코스닥은 '1월 효과' 기대감에 1.44% 강세를 나타내며 627.27에 마감했다.,\n",
      "        전일 한국거래소는 올해 코스피 현금배당액이 지난해와 같다고 가정하면 12월 결산법인의 현금배당을 감안한 코스피 배당락 지수는 2009.49로 추정한 바 있다.,\n",
      "        최창규 NH투자증권 투자전략2팀장은 \"배당을 받은 주식 매물이 쏟아지며 배당락 효과가 나타났다\"며 \"1월 옵션만기까지 배당 관련 매도가 이어질 것으로 예상된다\"고 말했다.,\n",
      "        폐장을 하루 앞둔 이날까지 올해 코스피 상승률은 3.2%를 기록했다. 반면 외국인 투자자들이 주로 추종하는 MSCI 코리아 지수의 상승률은 9.9%를 나타냈다. 외국인 입장에서는 한국 증시가 꽤 괜찮았던 셈이다.,\n",
      "        코스피와 MSCI 코리아 지수의 수익률 격차가 큰 이유는 올해 증시에서 대형주는 강세를 보인 반면 중소형주는 급락했기 때문이다. 이날까지 코스피 대형주 지수의 수익률은 5.6%를 나타낸 반면 중형주 지수는 -7.3%, 소형주 지수는 0.8%를 기록했고 코스닥은 8.1% 하락했다.,\n",
      "        이은택 SK증권 연구원은 \"MSCI 코리아 지수는 한국 증시에서 시가총액 상위 우량 대형주 위주로 구성돼 대형주 강세장의 수혜를 봤다\"며 \"외국인 입장에서는 한국 증시가 나쁘지 않게 보였을 것\"이라고 평가했다.,\n",
      "        올해 코스피 시장에서 외국인은 11조2040억원의 순매수를 나타냈다. 기관과 개인은 각각 8조7596억원, 4조9108억원의 순매도를 기록했고 국내 주식형 펀드에서 약 7조9000억원이 빠져나갔다. 연기금 순매수는 3조4464억원에 그쳤다.,\n",
      "        2016년 외국인이 가장 많이 순매도한 종목은 삼성전자(1조7842억원), 가장 많이 순매수한 종목은 아모레퍼시픽(1조3495억원)으로 집계됐다. 하반기 코스피 시장에서 삼성전자의 사상 최고가 행진과 아모레퍼시픽의 급락이 대조되는 흐름을 보였던 사실을 감안하면 외국인은 오른 종목을 차익실현하고, 내린 종목을 저가매수한 것이다.,\n",
      "        그밖에 외국인은 POSCO SK하이닉스 NAVER 한국항공우주 현대중공업 등을 많이 샀다. 2016년 코스피 시가총액 100위권 종목 중에서 수익률 상위 5위권에 들었던 현대중공업과 POSCO, SK하이닉스의 상승은 외국인 순매수의 힘이 컸던 것으로 풀이된다.,\n",
      "        외국인이 순매도한 종목으론 삼성전자 외에 삼성전자 우선주 현대모비스 삼성생명 KB금융 등이 이름을 올렸다. 순매도 상위에 삼성전자 삼성생명 삼성화재 삼성카드 삼성전기 등 삼성그룹주가 다수 포진한 것이 특징이다.,\n",
      "        원/달러 환율이 1200원을 넘어서면서 외국인 순매수에 변화가 나타날 거란 기대와 달리 외국인은 매수 우위 흐름을 이어가고 있다. 전문가들은 원/달러 환율이 가파르게 상승하고 있으나 원/엔 환율, 원/유로 환율이 안정적이기 때문에 매물 출회가 제한적이라고 봤다.,\n",
      "        김영환 신한금융투자 연구원은 \"올해 외국인 순매수 가운데 유럽계 자금 비중은 2/3에 달했는데 원/유로 환율의 안정으로 이들 관점에서는 환차손을 우려할 상황은 아닌 것\"이라며 \"외국인 매도 압력이 크지 않은 이유\"라고 분석했다.,\n",
      "        오정은 기자 agentlittle@mt.co.kr],\n",
      " ticker: 005930,\n",
      " title: [내일의전략]2016년 한국 증시, 외국인은 돈 벌었다}\n"
     ]
    }
   ],
   "source": [
    "pprint(jsondata[0])"
   ]
  },
  {
   "cell_type": "markdown",
   "metadata": {},
   "source": [
    "### 내용이 없는 기사 삭제"
   ]
  },
  {
   "cell_type": "code",
   "execution_count": 5,
   "metadata": {
    "collapsed": true
   },
   "outputs": [],
   "source": [
    "stopwords = ['[포토]', '[사진]', '[스팟]']\n",
    "for w in stopwords:\n",
    "    jsondata = filter(lambda jd: not re.compile(w).search(jd['title']), jsondata)"
   ]
  },
  {
   "cell_type": "markdown",
   "metadata": {},
   "source": [
    "### 필요없는 문장 삭제\n",
    "\n",
    "뉴스에서 '삼성전자'라는 키워드가 없는 문장을 삭제하고 나머지 문장을 하나의 문자열로 바꾼다."
   ]
  },
  {
   "cell_type": "code",
   "execution_count": 6,
   "metadata": {
    "collapsed": false
   },
   "outputs": [],
   "source": [
    "keyword = re.compile('삼성')\n",
    "for jd in jsondata:\n",
    "    jd['text'] = ' '.join(filter(keyword.search, jd['text']))"
   ]
  },
  {
   "cell_type": "code",
   "execution_count": 7,
   "metadata": {
    "collapsed": false
   },
   "outputs": [],
   "source": [
    "jsondata = filter(lambda jd: (len(jd['text']) > 0), jsondata)"
   ]
  },
  {
   "cell_type": "code",
   "execution_count": 8,
   "metadata": {
    "collapsed": true
   },
   "outputs": [],
   "source": [
    "jsondata = filter(lambda jd: keyword.search(jd['title']), jsondata)"
   ]
  },
  {
   "cell_type": "code",
   "execution_count": 9,
   "metadata": {
    "collapsed": false
   },
   "outputs": [
    {
     "name": "stdout",
     "output_type": "stream",
     "text": [
      "8557\n"
     ]
    }
   ],
   "source": [
    "print(len(jsondata))"
   ]
  },
  {
   "cell_type": "markdown",
   "metadata": {},
   "source": [
    "### 날짜 추가"
   ]
  },
  {
   "cell_type": "code",
   "execution_count": 10,
   "metadata": {
    "collapsed": true
   },
   "outputs": [],
   "source": [
    "for jd in jsondata:\n",
    "    jd['date'] = parse(jd['datetime']).strftime('%Y-%m-%d')"
   ]
  },
  {
   "cell_type": "markdown",
   "metadata": {},
   "source": [
    "### 저장"
   ]
  },
  {
   "cell_type": "code",
   "execution_count": 11,
   "metadata": {
    "collapsed": false
   },
   "outputs": [],
   "source": [
    "f = open('news_005930_clean.json', 'w')\n",
    "ujson.dump(jsondata, f)\n",
    "f.close()"
   ]
  },
  {
   "cell_type": "markdown",
   "metadata": {
    "collapsed": true
   },
   "source": [
    "### 라벨링"
   ]
  },
  {
   "cell_type": "code",
   "execution_count": 12,
   "metadata": {
    "collapsed": true
   },
   "outputs": [],
   "source": [
    "sec = web.DataReader(\"KRX:005930\", data_source='google', start='2000-01-01', end='2017-01-01')"
   ]
  },
  {
   "cell_type": "code",
   "execution_count": 13,
   "metadata": {
    "collapsed": false
   },
   "outputs": [
    {
     "data": {
      "text/html": [
       "<div>\n",
       "<table border=\"1\" class=\"dataframe\">\n",
       "  <thead>\n",
       "    <tr style=\"text-align: right;\">\n",
       "      <th></th>\n",
       "      <th>Open</th>\n",
       "      <th>High</th>\n",
       "      <th>Low</th>\n",
       "      <th>Close</th>\n",
       "      <th>Volume</th>\n",
       "      <th>Return</th>\n",
       "    </tr>\n",
       "    <tr>\n",
       "      <th>Date</th>\n",
       "      <th></th>\n",
       "      <th></th>\n",
       "      <th></th>\n",
       "      <th></th>\n",
       "      <th></th>\n",
       "      <th></th>\n",
       "    </tr>\n",
       "  </thead>\n",
       "  <tbody>\n",
       "    <tr>\n",
       "      <th>2016-12-23</th>\n",
       "      <td>1801000.0</td>\n",
       "      <td>1804000.0</td>\n",
       "      <td>1780000.0</td>\n",
       "      <td>1782000.0</td>\n",
       "      <td>162173</td>\n",
       "      <td>-0.014925</td>\n",
       "    </tr>\n",
       "    <tr>\n",
       "      <th>2016-12-26</th>\n",
       "      <td>1780000.0</td>\n",
       "      <td>1800000.0</td>\n",
       "      <td>1778000.0</td>\n",
       "      <td>1798000.0</td>\n",
       "      <td>96051</td>\n",
       "      <td>0.008979</td>\n",
       "    </tr>\n",
       "    <tr>\n",
       "      <th>2016-12-27</th>\n",
       "      <td>1799000.0</td>\n",
       "      <td>1810000.0</td>\n",
       "      <td>1793000.0</td>\n",
       "      <td>1799000.0</td>\n",
       "      <td>91981</td>\n",
       "      <td>0.000556</td>\n",
       "    </tr>\n",
       "    <tr>\n",
       "      <th>2016-12-28</th>\n",
       "      <td>1792000.0</td>\n",
       "      <td>1799000.0</td>\n",
       "      <td>1780000.0</td>\n",
       "      <td>1788000.0</td>\n",
       "      <td>132355</td>\n",
       "      <td>-0.006115</td>\n",
       "    </tr>\n",
       "    <tr>\n",
       "      <th>2016-12-29</th>\n",
       "      <td>1771000.0</td>\n",
       "      <td>1802000.0</td>\n",
       "      <td>1770000.0</td>\n",
       "      <td>1802000.0</td>\n",
       "      <td>139768</td>\n",
       "      <td>0.007830</td>\n",
       "    </tr>\n",
       "  </tbody>\n",
       "</table>\n",
       "</div>"
      ],
      "text/plain": [
       "                 Open       High        Low      Close  Volume    Return\n",
       "Date                                                                    \n",
       "2016-12-23  1801000.0  1804000.0  1780000.0  1782000.0  162173 -0.014925\n",
       "2016-12-26  1780000.0  1800000.0  1778000.0  1798000.0   96051  0.008979\n",
       "2016-12-27  1799000.0  1810000.0  1793000.0  1799000.0   91981  0.000556\n",
       "2016-12-28  1792000.0  1799000.0  1780000.0  1788000.0  132355 -0.006115\n",
       "2016-12-29  1771000.0  1802000.0  1770000.0  1802000.0  139768  0.007830"
      ]
     },
     "execution_count": 13,
     "metadata": {},
     "output_type": "execute_result"
    }
   ],
   "source": [
    "sec[\"Return\"] = sec.Close.pct_change()\n",
    "sec.dropna(inplace=True)\n",
    "sec.tail()"
   ]
  },
  {
   "cell_type": "code",
   "execution_count": 14,
   "metadata": {
    "collapsed": true
   },
   "outputs": [],
   "source": [
    "with open('news_005930_clean.json') as f:\n",
    "    jsondata_clean = ujson.load(f)"
   ]
  },
  {
   "cell_type": "markdown",
   "metadata": {},
   "source": [
    "### 매매가 없는 날 삭제"
   ]
  },
  {
   "cell_type": "code",
   "execution_count": 15,
   "metadata": {
    "collapsed": false
   },
   "outputs": [
    {
     "data": {
      "text/plain": [
       "8557"
      ]
     },
     "execution_count": 15,
     "metadata": {},
     "output_type": "execute_result"
    }
   ],
   "source": [
    "len(jsondata_clean)"
   ]
  },
  {
   "cell_type": "code",
   "execution_count": 16,
   "metadata": {
    "collapsed": true
   },
   "outputs": [],
   "source": [
    "jsondata_label = filter(lambda jd: jd['date'] in sec.index, jsondata_clean)"
   ]
  },
  {
   "cell_type": "code",
   "execution_count": 17,
   "metadata": {
    "collapsed": false
   },
   "outputs": [
    {
     "data": {
      "text/plain": [
       "7694"
      ]
     },
     "execution_count": 17,
     "metadata": {},
     "output_type": "execute_result"
    }
   ],
   "source": [
    "len(jsondata_label)"
   ]
  },
  {
   "cell_type": "code",
   "execution_count": 18,
   "metadata": {
    "collapsed": false,
    "scrolled": false
   },
   "outputs": [],
   "source": [
    "for jd in jsondata_label:\n",
    "    jd['return'] = sec.ix[jd['date']].Return "
   ]
  },
  {
   "cell_type": "markdown",
   "metadata": {},
   "source": [
    "### 저장"
   ]
  },
  {
   "cell_type": "code",
   "execution_count": 19,
   "metadata": {
    "collapsed": true
   },
   "outputs": [],
   "source": [
    "f = open('news_005930_label.json', 'w')\n",
    "ujson.dump(jsondata_label, f)\n",
    "f.close()"
   ]
  },
  {
   "cell_type": "markdown",
   "metadata": {},
   "source": [
    "### 형태소 분석"
   ]
  },
  {
   "cell_type": "code",
   "execution_count": 20,
   "metadata": {
    "collapsed": true
   },
   "outputs": [],
   "source": [
    "with open('news_005930_label.json') as f:\n",
    "    jsondata_label = ujson.load(f)"
   ]
  },
  {
   "cell_type": "code",
   "execution_count": 21,
   "metadata": {
    "collapsed": false
   },
   "outputs": [],
   "source": [
    "from konlpy.tag import Kkma\n",
    "tagger = Kkma()\n",
    "\n",
    "stop_pos = ['ECD', 'ECE', 'ECS', 'EFN', 'EPT', 'ETD', 'ETN',\n",
    "            'JC', 'JKG', 'JKM', 'JKO', 'JKS', 'JX', \n",
    "            'MAG', 'NNB', 'SP', 'SF', 'SS', 'SW', 'VCP', 'XR', 'XSN', 'XSV', 'VXV', 'VV']\n",
    "\n",
    "def tokenize(jd):\n",
    "    pos = tagger.pos(jd['text'])\n",
    "    \n",
    "    if pos[-1][1] in stop_pos:\n",
    "        pos[-1] = None\n",
    "    \n",
    "    pos = filter(None, pos)\n",
    "    \n",
    "    jd['token'] = pos"
   ]
  },
  {
   "cell_type": "code",
   "execution_count": 22,
   "metadata": {
    "collapsed": false,
    "scrolled": false
   },
   "outputs": [
    {
     "name": "stdout",
     "output_type": "stream",
     "text": [
      "2017-01-11 15:24:42.016000 0\n",
      "2017-01-11 15:26:27.517000 500\n",
      "2017-01-11 15:27:53.790000 1000\n",
      "2017-01-11 15:29:32.876000 1500\n",
      "2017-01-11 15:31:05.481000 2000\n",
      "2017-01-11 15:32:40.945000 2500\n",
      "2017-01-11 15:34:07.447000 3000\n",
      "2017-01-11 15:35:36.151000 3500\n",
      "2017-01-11 15:37:00.422000 4000\n",
      "2017-01-11 15:38:32.444000 4500\n",
      "2017-01-11 15:40:03.984000 5000\n",
      "2017-01-11 15:41:36.560000 5500\n",
      "2017-01-11 15:43:04.669000 6000\n",
      "2017-01-11 15:44:37.484000 6500\n",
      "2017-01-11 15:46:06.707000 7000\n",
      "2017-01-11 15:47:40.007000 7500\n",
      "Wall time: 23min 30s\n"
     ]
    }
   ],
   "source": [
    "%%time\n",
    "for i, jd in enumerate(jsondata_label):\n",
    "    if i % 500 == 0:\n",
    "        print(datetime.datetime.now(), i)\n",
    "    tokenize(jd)"
   ]
  },
  {
   "cell_type": "code",
   "execution_count": 23,
   "metadata": {
    "collapsed": false
   },
   "outputs": [
    {
     "name": "stdout",
     "output_type": "stream",
     "text": [
      "삼성, 중국서 '갤럭시C5 프로' 전파인증 획득…중국시장 탈환 '시동'\n"
     ]
    }
   ],
   "source": [
    "pprint(jsondata_label[0]['title'])"
   ]
  },
  {
   "cell_type": "code",
   "execution_count": 24,
   "metadata": {
    "collapsed": false,
    "scrolled": false
   },
   "outputs": [
    {
     "name": "stdout",
     "output_type": "stream",
     "text": [
      "[(삼성전자, NNG),\n",
      " (가, JKS),\n",
      " (중국, NNG),\n",
      " (시장, NNG),\n",
      " (을, JKO),\n",
      " (정조준, NNG),\n",
      " (하, XSV),\n",
      " (어, ECS),\n",
      " (개발, NNG),\n",
      " (하, XSV)]\n"
     ]
    }
   ],
   "source": [
    "pprint(jsondata_label[0]['token'][:10])"
   ]
  },
  {
   "cell_type": "markdown",
   "metadata": {},
   "source": [
    "### 저장"
   ]
  },
  {
   "cell_type": "code",
   "execution_count": 25,
   "metadata": {
    "collapsed": true
   },
   "outputs": [],
   "source": [
    "f = open('news_005930_token.json', 'w')\n",
    "ujson.dump(jsondata_label, f)\n",
    "f.close()"
   ]
  },
  {
   "cell_type": "markdown",
   "metadata": {
    "collapsed": true
   },
   "source": [
    "### 벡터 인코딩"
   ]
  },
  {
   "cell_type": "code",
   "execution_count": 26,
   "metadata": {
    "collapsed": false
   },
   "outputs": [],
   "source": [
    "with open('news_005930_token.json') as f:\n",
    "    jsondata_token = ujson.load(f)"
   ]
  },
  {
   "cell_type": "code",
   "execution_count": 27,
   "metadata": {
    "collapsed": false
   },
   "outputs": [],
   "source": [
    "corpus = [' '.join([''.join(t) for t in jd['token']]) for jd in jsondata_token]"
   ]
  },
  {
   "cell_type": "code",
   "execution_count": 28,
   "metadata": {
    "collapsed": false
   },
   "outputs": [],
   "source": [
    "tfidv = TfidfVectorizer().fit(corpus)\n",
    "X = tfidv.transform(corpus)\n",
    "y = np.array([jd['return'] > 0 for jd in jsondata_token])[:, np.newaxis]"
   ]
  },
  {
   "cell_type": "code",
   "execution_count": 29,
   "metadata": {
    "collapsed": false
   },
   "outputs": [
    {
     "data": {
      "text/plain": [
       "((7694, 24226), (7694L, 1L))"
      ]
     },
     "execution_count": 29,
     "metadata": {},
     "output_type": "execute_result"
    }
   ],
   "source": [
    "X.shape, y.shape"
   ]
  },
  {
   "cell_type": "code",
   "execution_count": 30,
   "metadata": {
    "collapsed": true
   },
   "outputs": [],
   "source": [
    "X_train, X_test, y_train, y_test = train_test_split(X, y, test_size=0.1, random_state=1)"
   ]
  },
  {
   "cell_type": "markdown",
   "metadata": {},
   "source": [
    "### Naive Bayesian 모형"
   ]
  },
  {
   "cell_type": "code",
   "execution_count": 40,
   "metadata": {
    "collapsed": false
   },
   "outputs": [
    {
     "data": {
      "text/plain": [
       "MultinomialNB(alpha=1.0, class_prior=None, fit_prior=True)"
      ]
     },
     "execution_count": 40,
     "metadata": {},
     "output_type": "execute_result"
    }
   ],
   "source": [
    "model1 = MultinomialNB()\n",
    "model1.fit(X_train, y_train.ravel())"
   ]
  },
  {
   "cell_type": "code",
   "execution_count": 32,
   "metadata": {
    "collapsed": false
   },
   "outputs": [
    {
     "name": "stdout",
     "output_type": "stream",
     "text": [
      "             precision    recall  f1-score   support\n",
      "\n",
      "      False       0.97      0.30      0.46      3087\n",
      "       True       0.64      0.99      0.78      3837\n",
      "\n",
      "avg / total       0.79      0.68      0.63      6924\n",
      "\n"
     ]
    }
   ],
   "source": [
    "print(classification_report(y_train, model1.predict(X_train)))"
   ]
  },
  {
   "cell_type": "code",
   "execution_count": 33,
   "metadata": {
    "collapsed": false
   },
   "outputs": [
    {
     "name": "stdout",
     "output_type": "stream",
     "text": [
      "             precision    recall  f1-score   support\n",
      "\n",
      "      False       0.93      0.20      0.33       347\n",
      "       True       0.60      0.99      0.75       423\n",
      "\n",
      "avg / total       0.75      0.63      0.56       770\n",
      "\n"
     ]
    }
   ],
   "source": [
    "print(classification_report(y_test, model1.predict(X_test)))"
   ]
  },
  {
   "cell_type": "markdown",
   "metadata": {},
   "source": [
    "### 커널 서포트 벡터 머신"
   ]
  },
  {
   "cell_type": "code",
   "execution_count": 34,
   "metadata": {
    "collapsed": false
   },
   "outputs": [
    {
     "data": {
      "text/plain": [
       "SVC(C=1.0, cache_size=200, class_weight=None, coef0=0.0,\n",
       "  decision_function_shape=None, degree=3, gamma=1, kernel='rbf',\n",
       "  max_iter=-1, probability=False, random_state=0, shrinking=True,\n",
       "  tol=0.001, verbose=False)"
      ]
     },
     "execution_count": 34,
     "metadata": {},
     "output_type": "execute_result"
    }
   ],
   "source": [
    "model2 = SVC(random_state=0, gamma=1, C=1.0).fit(X_train, y_train)\n",
    "model2.fit(X_train, y_train)"
   ]
  },
  {
   "cell_type": "code",
   "execution_count": 35,
   "metadata": {
    "collapsed": false
   },
   "outputs": [
    {
     "name": "stdout",
     "output_type": "stream",
     "text": [
      "             precision    recall  f1-score   support\n",
      "\n",
      "      False       0.99      0.93      0.96      3087\n",
      "       True       0.95      0.99      0.97      3837\n",
      "\n",
      "avg / total       0.96      0.96      0.96      6924\n",
      "\n"
     ]
    }
   ],
   "source": [
    "print(classification_report(y_train, model2.predict(X_train)))"
   ]
  },
  {
   "cell_type": "code",
   "execution_count": 36,
   "metadata": {
    "collapsed": false
   },
   "outputs": [
    {
     "name": "stdout",
     "output_type": "stream",
     "text": [
      "             precision    recall  f1-score   support\n",
      "\n",
      "      False       0.82      0.65      0.73       347\n",
      "       True       0.76      0.88      0.81       423\n",
      "\n",
      "avg / total       0.78      0.78      0.78       770\n",
      "\n"
     ]
    }
   ],
   "source": [
    "print(classification_report(y_test, model2.predict(X_test)))"
   ]
  },
  {
   "cell_type": "markdown",
   "metadata": {},
   "source": [
    "### Decision Tree"
   ]
  },
  {
   "cell_type": "code",
   "execution_count": 37,
   "metadata": {
    "collapsed": true
   },
   "outputs": [],
   "source": [
    "model3 = DecisionTreeClassifier().fit(X_train, y_train)"
   ]
  },
  {
   "cell_type": "code",
   "execution_count": 38,
   "metadata": {
    "collapsed": false
   },
   "outputs": [
    {
     "name": "stdout",
     "output_type": "stream",
     "text": [
      "             precision    recall  f1-score   support\n",
      "\n",
      "      False       0.99      1.00      1.00      3087\n",
      "       True       1.00      1.00      1.00      3837\n",
      "\n",
      "avg / total       1.00      1.00      1.00      6924\n",
      "\n"
     ]
    }
   ],
   "source": [
    "print(classification_report(y_train, model3.predict(X_train)))"
   ]
  },
  {
   "cell_type": "code",
   "execution_count": 39,
   "metadata": {
    "collapsed": false
   },
   "outputs": [
    {
     "name": "stdout",
     "output_type": "stream",
     "text": [
      "             precision    recall  f1-score   support\n",
      "\n",
      "      False       0.57      0.55      0.56       347\n",
      "       True       0.64      0.67      0.65       423\n",
      "\n",
      "avg / total       0.61      0.61      0.61       770\n",
      "\n"
     ]
    }
   ],
   "source": [
    "print(classification_report(y_test, model3.predict(X_test)))"
   ]
  },
  {
   "cell_type": "code",
   "execution_count": null,
   "metadata": {
    "collapsed": true
   },
   "outputs": [],
   "source": []
  },
  {
   "cell_type": "code",
   "execution_count": null,
   "metadata": {
    "collapsed": true
   },
   "outputs": [],
   "source": [
    "model4 = Sequential()\n",
    "model4.add(Dense(100, input_dim=24226, init='normal', activation='relu'))\n",
    "model4.add(Dense(30, init='normal', activation='relu'))\n",
    "model4.add(Dense(2, activation='softmax'))\n",
    "model4.compile(loss='categorical_crossentropy', optimizer='sgd', metrics=[\"accuracy\"])"
   ]
  }
 ],
 "metadata": {
  "anaconda-cloud": {},
  "kernelspec": {
   "display_name": "Python [default]",
   "language": "python",
   "name": "python2"
  },
  "language_info": {
   "codemirror_mode": {
    "name": "ipython",
    "version": 2
   },
   "file_extension": ".py",
   "mimetype": "text/x-python",
   "name": "python",
   "nbconvert_exporter": "python",
   "pygments_lexer": "ipython2",
   "version": "2.7.13"
  }
 },
 "nbformat": 4,
 "nbformat_minor": 0
}
